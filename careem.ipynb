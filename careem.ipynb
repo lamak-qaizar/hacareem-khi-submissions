{
 "cells": [
  {
   "cell_type": "markdown",
   "metadata": {},
   "source": [
    "# Step 1: Import required modules"
   ]
  },
  {
   "cell_type": "code",
   "execution_count": 2,
   "metadata": {
    "collapsed": false
   },
   "outputs": [
    {
     "data": {
      "application/javascript": [
       "IPython.notebook.set_autosave_interval(0)"
      ]
     },
     "metadata": {},
     "output_type": "display_data"
    },
    {
     "name": "stdout",
     "output_type": "stream",
     "text": [
      "Autosave disabled\n"
     ]
    },
    {
     "name": "stderr",
     "output_type": "stream",
     "text": [
      "/Users/haris/anaconda/lib/python2.7/site-packages/sklearn/cross_validation.py:44: DeprecationWarning: This module was deprecated in version 0.18 in favor of the model_selection module into which all the refactored classes and functions are moved. Also note that the interface of the new CV iterators are different from that of this module. This module will be removed in 0.20.\n",
      "  \"This module will be removed in 0.20.\", DeprecationWarning)\n"
     ]
    }
   ],
   "source": [
    "#disable auto save, this sometimes hangs the browser\n",
    "%autosave 0\n",
    "import pandas as pd\n",
    "import time\n",
    "from pandas.tools.plotting import scatter_matrix\n",
    "import numpy\n",
    "import sklearn\n",
    "import datetime\n",
    "from sklearn import preprocessing\n",
    "from sklearn_pandas import DataFrameMapper\n",
    "from sklearn.cross_validation import train_test_split\n",
    "from sklearn import cross_validation\n",
    "from sklearn import preprocessing\n",
    "from sklearn.dummy import DummyClassifier\n",
    "from sklearn.ensemble import RandomForestClassifier\n",
    "from sklearn import metrics\n",
    "from sklearn.neural_network import MLPClassifier\n",
    "import operator \n",
    "\n",
    "# to supress printing of exponential notation in pandas\n",
    "pd.options.display.float_format = '{:20,.2f}'.format\n",
    "\n",
    "# avoid data truncation\n",
    "pd.set_option('display.max_columns', None)\n",
    "pd.set_option('display.max_rows', None)"
   ]
  },
  {
   "cell_type": "markdown",
   "metadata": {},
   "source": [
    "## Helper Functions"
   ]
  },
  {
   "cell_type": "markdown",
   "metadata": {},
   "source": [
    "### Function to return true if array contains binary (zero and one) values only"
   ]
  },
  {
   "cell_type": "code",
   "execution_count": 3,
   "metadata": {
    "collapsed": true
   },
   "outputs": [],
   "source": [
    "def is_only_zero_and_one(array):\n",
    "    return len(array) == 2 and ((array[0] == 0 and array[1] == 1) or ((array[0] == 1 and array[1] == 0)))"
   ]
  },
  {
   "cell_type": "markdown",
   "metadata": {},
   "source": [
    "### Function to convert categorical features into binary\n",
    "#### use this in future instead: http://pandas.pydata.org/pandas-docs/stable/generated/pandas.get_dummies.html\n",
    "#### need to do this because: https://stackoverflow.com/questions/24715230/can-sklearn-random-forest-directly-handle-categorical-features"
   ]
  },
  {
   "cell_type": "code",
   "execution_count": 4,
   "metadata": {
    "collapsed": false
   },
   "outputs": [
    {
     "ename": "SyntaxError",
     "evalue": "invalid syntax (<ipython-input-4-f74cf64c0984>, line 26)",
     "output_type": "error",
     "traceback": [
      "\u001b[0;36m  File \u001b[0;32m\"<ipython-input-4-f74cf64c0984>\"\u001b[0;36m, line \u001b[0;32m26\u001b[0m\n\u001b[0;31m    temp_data = temp_data.drop() += len(data[col].unique())\u001b[0m\n\u001b[0m                                  ^\u001b[0m\n\u001b[0;31mSyntaxError\u001b[0m\u001b[0;31m:\u001b[0m invalid syntax\n"
     ]
    }
   ],
   "source": [
    "# does not modify the original source, removes the original categorical columns\n",
    "def convert_categorical_to_binary(data, categorical_columns):\n",
    "    \n",
    "    temp_data = data.copy()\n",
    "\n",
    "    label_binarizer = []\n",
    "    for col in categorical_columns:\n",
    "        label_binarizer.append((col, sklearn.preprocessing.LabelBinarizer()))\n",
    "        \n",
    "    # df_out=True: output a data frame\n",
    "    mapper_df = DataFrameMapper(label_binarizer, df_out=True)    \n",
    "    # temp contains the new columns\n",
    "    temp = mapper_df.fit_transform(temp_data)\n",
    "    \n",
    "    # print temp[temp.isnull().any(axis=1)]\n",
    "    \n",
    "    for col in temp.columns:\n",
    "        temp_data[col] = numpy.array(temp[col])\n",
    "    \n",
    "    total_column_count = len(data.columns)\n",
    "    for col in categorical_columns:\n",
    "        total_column_count += len(data[col].unique())\n",
    "        \n",
    "    print 'new column count should be ' + str(len(temp_data.columns)) + ' and is ' + str(total_column_count)\n",
    "    for col in categorical_columns:\n",
    "        temp_data = temp_data.drop() += len(data[col].unique())\n",
    "    return temp_data"
   ]
  },
  {
   "cell_type": "markdown",
   "metadata": {},
   "source": [
    "### Function to rescale all non-binary features between 0 and 1"
   ]
  },
  {
   "cell_type": "code",
   "execution_count": null,
   "metadata": {
    "collapsed": true
   },
   "outputs": [],
   "source": [
    "# does not modify the original source\n",
    "# categorical_columns are skipped\n",
    "# if a column only has binary (0/1) values, it is skipped too\n",
    "def rescale_non_binary_columns(data, categorical_columns):\n",
    "    \n",
    "    temp_data = data.copy()\n",
    "    scaler = preprocessing.MinMaxScaler()\n",
    "    for col in data.columns:\n",
    "        if col not in categorical_columns and not is_only_zero_and_one(data[col].unique()):\n",
    "            # print 'scaling ' + col\n",
    "            temp_data[col] = scaler.fit_transform(temp_data[[col]])\n",
    "            \n",
    "    return temp_data"
   ]
  },
  {
   "cell_type": "markdown",
   "metadata": {},
   "source": [
    "### Function to print confusion matrix"
   ]
  },
  {
   "cell_type": "code",
   "execution_count": null,
   "metadata": {
    "collapsed": true
   },
   "outputs": [],
   "source": [
    "def print_confusion_matrix(confusion_matrix, labels):\n",
    "    records = len(labels)\n",
    "    for row in range(records):\n",
    "        print \"-------------\" + labels[row] + \"-------------\"\n",
    "        total = 0\n",
    "        for column in range(records):\n",
    "            total += confusion_matrix[row][column]\n",
    "        print 'total: ' + str(total)\n",
    "        print 'correct: ' + str(confusion_matrix[row][row])\n",
    "        for column in range(records):\n",
    "            if confusion_matrix[row][column] != 0 and row != column:\n",
    "                print labels[column] + ': ' + str(confusion_matrix[row][column])"
   ]
  },
  {
   "cell_type": "markdown",
   "metadata": {},
   "source": [
    "### Function to print F scores"
   ]
  },
  {
   "cell_type": "code",
   "execution_count": 5,
   "metadata": {
    "collapsed": true
   },
   "outputs": [],
   "source": [
    "def print_f_scores(actual_labels, predictions, unique_labels):\n",
    "    #http://scikit-learn.org/stable/modules/generated/sklearn.metrics.f1_score.html#sklearn.metrics.f1_score\n",
    "    # Calculate metrics globally by counting the total true positives, false negatives and false positives.\n",
    "    micro = metrics.f1_score(actual_labels, predictions, \n",
    "                                           labels=unique_labels, average='micro')\n",
    "    print 'micro: ' + str(micro)\n",
    "    # Calculate metrics for each label, and find their unweighted mean. This does not take label imbalance into account.\n",
    "    print 'macro: '+ str(metrics.f1_score(actual_labels, predictions, \n",
    "                                          labels=unique_labels, average='macro'))\n",
    "    # Calculate metrics for each label, and find their average, weighted by support (the number of true instances \n",
    "    # for each label). This alters ‘macro’ to account for label imbalance; it can result in an F-score that\n",
    "    # is not between precision and recall.\n",
    "    print 'weighted: ' + str(metrics.f1_score(actual_labels, predictions, \n",
    "                                              labels=unique_labels, average='weighted'))\n",
    "    \n",
    "    return micro"
   ]
  },
  {
   "cell_type": "markdown",
   "metadata": {},
   "source": [
    "### Function to convert millis to hour/day/month/year"
   ]
  },
  {
   "cell_type": "code",
   "execution_count": 6,
   "metadata": {
    "collapsed": true
   },
   "outputs": [],
   "source": [
    "def seconds_to_info(seconds):\n",
    "  dt = datetime.datetime.fromtimestamp(seconds)  \n",
    "\n",
    "  return {\n",
    "    \"hour_of_day\": dt.hour,\n",
    "    \"day_of_week\": dt.weekday(),\n",
    "    \"day_of_month\": dt.day,\n",
    "    \"month_of_year\": dt.month\n",
    "  }"
   ]
  },
  {
   "cell_type": "markdown",
   "metadata": {},
   "source": [
    "### Function to convert categorical features to binary"
   ]
  },
  {
   "cell_type": "code",
   "execution_count": 7,
   "metadata": {
    "collapsed": false
   },
   "outputs": [],
   "source": [
    "# does not modify the original source\n",
    "def convert_categorical_to_binary(data, categorical_columns):\n",
    "    \n",
    "    temp_data = data.copy()\n",
    "\n",
    "    label_binarizer = []\n",
    "    for col in categorical_columns:\n",
    "        label_binarizer.append((col, sklearn.preprocessing.LabelBinarizer()))\n",
    "        \n",
    "    # df_out=True: output a data frame\n",
    "    mapper_df = DataFrameMapper(label_binarizer, df_out=True)    \n",
    "    # temp contains the new columns\n",
    "    temp = mapper_df.fit_transform(temp_data)\n",
    "    \n",
    "    # print temp[temp.isnull().any(axis=1)]\n",
    "    \n",
    "    for col in temp.columns:\n",
    "        temp_data[col] = numpy.array(temp[col])\n",
    "    \n",
    "    total_column_count = len(data.columns)\n",
    "    for col in categorical_columns:\n",
    "        total_column_count += len(data[col].unique())\n",
    "        \n",
    "    print 'new column count should be ' + str(len(temp_data.columns)) + ' and is ' + str(total_column_count)\n",
    "    for col in categorical_columns:\n",
    "        temp_data = temp_data.drop(col, 1)\n",
    "    return temp_data"
   ]
  },
  {
   "cell_type": "markdown",
   "metadata": {},
   "source": [
    "## Load the dataset"
   ]
  },
  {
   "cell_type": "code",
   "execution_count": 8,
   "metadata": {
    "collapsed": false
   },
   "outputs": [
    {
     "name": "stdout",
     "output_type": "stream",
     "text": [
      "csv loaded\n"
     ]
    }
   ],
   "source": [
    "data = pd.read_csv(\"/Users/haris/Desktop/hacareem-khi-master 2/problem3/large.csv\")\n",
    "print \"csv loaded\""
   ]
  },
  {
   "cell_type": "markdown",
   "metadata": {},
   "source": [
    "### Remove duplicates"
   ]
  },
  {
   "cell_type": "code",
   "execution_count": 9,
   "metadata": {
    "collapsed": false
   },
   "outputs": [
    {
     "name": "stdout",
     "output_type": "stream",
     "text": [
      "rows and columns: (4768, 11)\n",
      "rows and columns after removing duplicates:(4768, 11)\n",
      "printing rows with null values\n",
      "0\n"
     ]
    }
   ],
   "source": [
    "print 'rows and columns: ' + str(data.shape)\n",
    "# remove duplicate rows\n",
    "data = data.drop_duplicates()\n",
    "print 'rows and columns after removing duplicates:' + str(data.shape)\n",
    "print 'printing rows with null values'\n",
    "print len(data[data.isnull().any(axis=1)])"
   ]
  },
  {
   "cell_type": "markdown",
   "metadata": {},
   "source": [
    "### Unique users"
   ]
  },
  {
   "cell_type": "code",
   "execution_count": 10,
   "metadata": {
    "collapsed": false
   },
   "outputs": [
    {
     "name": "stdout",
     "output_type": "stream",
     "text": [
      "174\n"
     ]
    }
   ],
   "source": [
    "print len(data['user_id'].unique())"
   ]
  },
  {
   "cell_type": "markdown",
   "metadata": {},
   "source": [
    "### Remove rides where pickup and dropoff location is same"
   ]
  },
  {
   "cell_type": "code",
   "execution_count": 11,
   "metadata": {
    "collapsed": false
   },
   "outputs": [
    {
     "data": {
      "text/plain": [
       "4748"
      ]
     },
     "execution_count": 11,
     "metadata": {},
     "output_type": "execute_result"
    }
   ],
   "source": [
    "data = data.loc[data['pick_up_geohash'] != data['drop_off_geohash']]\n",
    "len(data)"
   ]
  },
  {
   "cell_type": "markdown",
   "metadata": {},
   "source": [
    "### Extract hour/day/week.. info from the timestamp"
   ]
  },
  {
   "cell_type": "code",
   "execution_count": 12,
   "metadata": {
    "collapsed": false,
    "scrolled": false
   },
   "outputs": [],
   "source": [
    "hour_of_day = []\n",
    "day_of_week = []\n",
    "day_of_month = []\n",
    "month_of_year = []\n",
    "\n",
    "for index in range(0, len(data)):\n",
    "    date_info = seconds_to_info(data.iloc[index]['pick_up_time'])\n",
    "\n",
    "    hour_of_day.append(date_info['hour_of_day'])\n",
    "    day_of_week.append(date_info['day_of_week'])\n",
    "    day_of_month.append(date_info['day_of_month'])\n",
    "    month_of_year.append(date_info['month_of_year'])\n",
    "    \n",
    "data['hour_of_day'] = hour_of_day\n",
    "data['day_of_week'] = day_of_week\n",
    "data['day_of_month'] = day_of_month\n",
    "data['month_of_year'] = month_of_year"
   ]
  },
  {
   "cell_type": "markdown",
   "metadata": {},
   "source": [
    "### Find uniuqe pick_up vs unique pick_up_geohash"
   ]
  },
  {
   "cell_type": "code",
   "execution_count": 13,
   "metadata": {
    "collapsed": false
   },
   "outputs": [
    {
     "name": "stdout",
     "output_type": "stream",
     "text": [
      "972\n",
      "2489\n"
     ]
    }
   ],
   "source": [
    "print len(data['pick_up'].unique())\n",
    "#print len(data['pick_up_lng'].unique())\n",
    "print len(data['pick_up_geohash'].unique())"
   ]
  },
  {
   "cell_type": "markdown",
   "metadata": {},
   "source": [
    "### Removing unnecessary columns "
   ]
  },
  {
   "cell_type": "code",
   "execution_count": 14,
   "metadata": {
    "collapsed": false
   },
   "outputs": [],
   "source": [
    "columns_to_remove = [\n",
    "    'ride_id',  \n",
    "    'pick_up_time',\n",
    "    'pick_up_lat',\n",
    "    'pick_up_lng',\n",
    "    'pick_up_geohash',\n",
    "    'drop_off_lat',\n",
    "    'drop_off_lng',\n",
    "    'drop_off_geohash',\n",
    "    'day_of_month',\n",
    "    'month_of_year'\n",
    "]\n",
    "\n",
    "for col in columns_to_remove:\n",
    "    data = data.drop(col, 1)"
   ]
  },
  {
   "cell_type": "code",
   "execution_count": 15,
   "metadata": {
    "collapsed": false
   },
   "outputs": [
    {
     "data": {
      "text/plain": [
       "Index([u'user_id', u'pick_up', u'drop_off', u'hour_of_day', u'day_of_week'], dtype='object')"
      ]
     },
     "execution_count": 15,
     "metadata": {},
     "output_type": "execute_result"
    }
   ],
   "source": [
    "#remaining columms\n",
    "data.columns"
   ]
  },
  {
   "cell_type": "markdown",
   "metadata": {},
   "source": [
    "### Train classifier for each user"
   ]
  },
  {
   "cell_type": "code",
   "execution_count": 16,
   "metadata": {
    "collapsed": false,
    "scrolled": false
   },
   "outputs": [
    {
     "name": "stdout",
     "output_type": "stream",
     "text": [
      "-------------- NEW USER-----------------------\n",
      "-------------- NEW USER-----------------------\n",
      "-------------- NEW USER-----------------------\n",
      "-------------- NEW USER-----------------------\n",
      "-------------- NEW USER-----------------------\n",
      "-------------- NEW USER-----------------------\n",
      "-------------- NEW USER-----------------------\n",
      "-------------- NEW USER-----------------------\n",
      "-------------- NEW USER-----------------------\n",
      "user: c8c41c4a18\n",
      "examples: 263\n",
      "examples after removing y with count < 2: 245\n",
      "new column count should be 36 and is 36\n",
      "micro: 0.836734693878\n",
      "macro: 0.267165314402\n",
      "weighted: 0.783146361993\n",
      "-------------- NEW USER-----------------------\n",
      "user: cc6ef8cb8d\n",
      "examples: 158\n"
     ]
    },
    {
     "name": "stderr",
     "output_type": "stream",
     "text": [
      "/Users/haris/anaconda/lib/python2.7/site-packages/sklearn/metrics/classification.py:1113: UndefinedMetricWarning: F-score is ill-defined and being set to 0.0 in labels with no predicted samples.\n",
      "  'precision', 'predicted', average, warn_for)\n",
      "/Users/haris/anaconda/lib/python2.7/site-packages/sklearn/metrics/classification.py:1115: UndefinedMetricWarning: F-score is ill-defined and being set to 0.0 in labels with no true samples.\n",
      "  'recall', 'true', average, warn_for)\n"
     ]
    },
    {
     "name": "stdout",
     "output_type": "stream",
     "text": [
      "examples after removing y with count < 2: 123\n",
      "new column count should be 41 and is 41\n",
      "micro: 0.36\n",
      "macro: 0.117647058824\n",
      "weighted: 0.344705882353\n",
      "-------------- NEW USER-----------------------\n",
      "-------------- NEW USER-----------------------\n",
      "-------------- NEW USER-----------------------\n",
      "user: daec4b0d54\n",
      "examples: 82\n",
      "examples after removing y with count < 2: 68\n",
      "new column count should be 18 and is 18\n",
      "micro: 0.642857142857\n",
      "macro: 0.307692307692\n",
      "weighted: 0.571428571429\n",
      "-------------- NEW USER-----------------------\n",
      "-------------- NEW USER-----------------------\n",
      "-------------- NEW USER-----------------------\n",
      "-------------- NEW USER-----------------------\n",
      "-------------- NEW USER-----------------------\n",
      "-------------- NEW USER-----------------------\n",
      "user: 51d967ebc7\n",
      "examples: 65\n",
      "examples after removing y with count < 2: 51\n",
      "new column count should be 17 and is 17\n",
      "micro: 0.636363636364\n",
      "macro: 0.341991341991\n",
      "weighted: 0.603305785124\n",
      "-------------- NEW USER-----------------------\n",
      "-------------- NEW USER-----------------------\n",
      "-------------- NEW USER-----------------------\n",
      "-------------- NEW USER-----------------------\n",
      "-------------- NEW USER-----------------------\n",
      "user: 7d1af03a0f\n",
      "examples: 97\n",
      "examples after removing y with count < 2: 85\n",
      "new column count should be 15 and is 15\n",
      "micro: 0.941176470588\n",
      "macro: 0.486111111111\n",
      "weighted: 0.915032679739\n",
      "-------------- NEW USER-----------------------\n",
      "-------------- NEW USER-----------------------\n",
      "-------------- NEW USER-----------------------\n",
      "-------------- NEW USER-----------------------\n",
      "user: 757f039c77\n",
      "examples: 96\n",
      "examples after removing y with count < 2: 75\n",
      "new column count should be 27 and is 27\n",
      "micro: 0.866666666667\n",
      "macro: 0.669444444444\n",
      "weighted: 0.859259259259\n",
      "-------------- NEW USER-----------------------\n",
      "user: d4430a5a0c\n",
      "examples: 69\n",
      "examples after removing y with count < 2: 42\n",
      "new column count should be 22 and is 22\n",
      "micro: 0.555555555556\n",
      "macro: 0.361111111111\n",
      "weighted: 0.518518518519\n",
      "-------------- NEW USER-----------------------\n",
      "user: 2d1bafe55b\n",
      "examples: 99\n",
      "examples after removing y with count < 2: 81\n",
      "new column count should be 19 and is 19\n",
      "micro: 0.176470588235\n",
      "macro: 0.128042328042\n",
      "weighted: 0.15406162465\n",
      "-------------- NEW USER-----------------------\n",
      "-------------- NEW USER-----------------------\n",
      "-------------- NEW USER-----------------------\n",
      "-------------- NEW USER-----------------------\n",
      "-------------- NEW USER-----------------------\n",
      "-------------- NEW USER-----------------------\n",
      "-------------- NEW USER-----------------------\n",
      "user: 8da57fac33\n",
      "examples: 73\n",
      "examples after removing y with count < 2: 63\n",
      "new column count should be 31 and is 31\n",
      "micro: 0.923076923077\n",
      "macro: 0.458333333333\n",
      "weighted: 0.897435897436\n",
      "-------------- NEW USER-----------------------\n",
      "-------------- NEW USER-----------------------\n",
      "-------------- NEW USER-----------------------\n",
      "user: 5b98c74ff3\n",
      "examples: 52\n",
      "examples after removing y with count < 2: 24\n",
      "new column count should be 18 and is 18\n",
      "micro: 1.0\n",
      "macro: 0.75\n",
      "weighted: 1.0\n",
      "-------------- NEW USER-----------------------\n",
      "-------------- NEW USER-----------------------\n",
      "user: 9317c17077\n",
      "examples: 65\n",
      "examples after removing y with count < 2: 56\n",
      "new column count should be 18 and is 18\n",
      "micro: 0.666666666667\n",
      "macro: 0.316666666667\n",
      "weighted: 0.611111111111\n",
      "-------------- NEW USER-----------------------\n",
      "-------------- NEW USER-----------------------\n",
      "-------------- NEW USER-----------------------\n",
      "user: 882e6831a2\n",
      "examples: 60\n",
      "examples after removing y with count < 2: 50\n",
      "new column count should be 15 and is 15\n",
      "micro: 0.7\n",
      "macro: 0.325892857143\n",
      "weighted: 0.657142857143\n",
      "-------------- NEW USER-----------------------\n",
      "-------------- NEW USER-----------------------\n",
      "-------------- NEW USER-----------------------\n",
      "user: bbd525a64d\n",
      "examples: 223\n",
      "examples after removing y with count < 2: 164\n",
      "new column count should be 54 and is 54\n",
      "micro: 0.363636363636\n",
      "macro: 0.1421875\n",
      "weighted: 0.243939393939\n",
      "-------------- NEW USER-----------------------\n",
      "-------------- NEW USER-----------------------\n",
      "-------------- NEW USER-----------------------\n",
      "-------------- NEW USER-----------------------\n",
      "-------------- NEW USER-----------------------\n",
      "-------------- NEW USER-----------------------\n",
      "-------------- NEW USER-----------------------\n",
      "-------------- NEW USER-----------------------\n",
      "user: 1a3145222c\n",
      "examples: 75\n",
      "examples after removing y with count < 2: 61\n",
      "new column count should be 26 and is 26\n",
      "micro: 0.461538461538\n",
      "macro: 0.262585034014\n",
      "weighted: 0.411721611722\n",
      "-------------- NEW USER-----------------------\n",
      "-------------- NEW USER-----------------------\n",
      "-------------- NEW USER-----------------------\n",
      "user: da466be2b4\n",
      "examples: 70\n",
      "examples after removing y with count < 2: 52\n",
      "new column count should be 13 and is 13\n",
      "micro: 0.727272727273\n",
      "macro: 0.5\n",
      "weighted: 0.727272727273\n",
      "-------------- NEW USER-----------------------\n",
      "-------------- NEW USER-----------------------\n",
      "-------------- NEW USER-----------------------\n",
      "-------------- NEW USER-----------------------\n",
      "-------------- NEW USER-----------------------\n",
      "-------------- NEW USER-----------------------\n",
      "-------------- NEW USER-----------------------\n",
      "user: e4d22c51db\n",
      "examples: 128\n",
      "examples after removing y with count < 2: 99\n",
      "new column count should be 34 and is 34\n",
      "micro: 0.75\n",
      "macro: 0.323357801619\n",
      "weighted: 0.683267457181\n",
      "-------------- NEW USER-----------------------\n",
      "-------------- NEW USER-----------------------\n",
      "-------------- NEW USER-----------------------\n",
      "-------------- NEW USER-----------------------\n",
      "user: 358a71abf8\n",
      "examples: 132\n",
      "examples after removing y with count < 2: 91\n",
      "new column count should be 41 and is 41\n",
      "micro: 0.631578947368\n",
      "macro: 0.123376623377\n",
      "weighted: 0.555023923445\n",
      "-------------- NEW USER-----------------------\n",
      "user: 4109d88bae\n",
      "examples: 57\n",
      "examples after removing y with count < 2: 42\n",
      "new column count should be 17 and is 17\n",
      "micro: 0.777777777778\n",
      "macro: 0.392857142857\n",
      "weighted: 0.730158730159\n",
      "-------------- NEW USER-----------------------\n",
      "-------------- NEW USER-----------------------\n",
      "user: 1e75d5b086\n",
      "examples: 68\n",
      "examples after removing y with count < 2: 54\n",
      "new column count should be 17 and is 17\n",
      "micro: 0.909090909091\n",
      "macro: 0.644444444444\n",
      "weighted: 0.866666666667\n",
      "-------------- NEW USER-----------------------\n",
      "-------------- NEW USER-----------------------\n",
      "-------------- NEW USER-----------------------\n",
      "-------------- NEW USER-----------------------\n",
      "-------------- NEW USER-----------------------\n",
      "user: f03f112318\n",
      "examples: 79\n",
      "examples after removing y with count < 2: 47\n",
      "new column count should be 24 and is 24\n",
      "micro: 0.8\n",
      "macro: 0.291666666667\n",
      "weighted: 0.725\n",
      "-------------- NEW USER-----------------------\n",
      "user: a0aa5b23cb\n",
      "examples: 85\n",
      "examples after removing y with count < 2: 64\n",
      "new column count should be 28 and is 28\n",
      "micro: 0.461538461538\n",
      "macro: 0.10119047619\n",
      "weighted: 0.368131868132\n",
      "-------------- NEW USER-----------------------\n",
      "-------------- NEW USER-----------------------\n",
      "-------------- NEW USER-----------------------\n",
      "-------------- NEW USER-----------------------\n",
      "-------------- NEW USER-----------------------\n",
      "-------------- NEW USER-----------------------\n",
      "-------------- NEW USER-----------------------\n",
      "user: 411ef5e153\n",
      "examples: 65\n",
      "examples after removing y with count < 2: 55\n",
      "new column count should be 11 and is 11\n",
      "micro: 1.0\n",
      "macro: 1.0\n",
      "weighted: 1.0\n",
      "-------------- NEW USER-----------------------\n",
      "-------------- NEW USER-----------------------\n",
      "-------------- NEW USER-----------------------\n",
      "-------------- NEW USER-----------------------\n",
      "-------------- NEW USER-----------------------\n",
      "-------------- NEW USER-----------------------\n",
      "-------------- NEW USER-----------------------\n",
      "-------------- NEW USER-----------------------\n",
      "-------------- NEW USER-----------------------\n",
      "user: be7a3c634d\n",
      "examples: 69\n",
      "examples after removing y with count < 2: 45\n",
      "new column count should be 26 and is 26\n",
      "-------------- NEW USER-----------------------\n",
      "-------------- NEW USER-----------------------\n",
      "-------------- NEW USER-----------------------\n",
      "user: 541f1011bd\n",
      "examples: 66\n",
      "examples after removing y with count < 2: 50\n",
      "new column count should be 20 and is 20\n",
      "micro: 0.7\n",
      "macro: 0.257142857143\n",
      "weighted: 0.62\n",
      "-------------- NEW USER-----------------------\n",
      "-------------- NEW USER-----------------------\n",
      "-------------- NEW USER-----------------------\n",
      "-------------- NEW USER-----------------------\n",
      "user: cf0f6a8c0b\n",
      "examples: 55\n",
      "examples after removing y with count < 2: 43\n",
      "new column count should be 18 and is 18\n",
      "-------------- NEW USER-----------------------\n",
      "-------------- NEW USER-----------------------\n",
      "-------------- NEW USER-----------------------\n",
      "-------------- NEW USER-----------------------\n",
      "-------------- NEW USER-----------------------\n",
      "-------------- NEW USER-----------------------\n",
      "-------------- NEW USER-----------------------\n",
      "user: 7946cd8f3d\n",
      "examples: 71\n",
      "examples after removing y with count < 2: 59\n",
      "new column count should be 14 and is 14\n",
      "micro: 0.833333333333\n",
      "macro: 0.541818181818\n",
      "weighted: 0.804545454545\n",
      "-------------- NEW USER-----------------------\n",
      "-------------- NEW USER-----------------------\n",
      "-------------- NEW USER-----------------------\n",
      "-------------- NEW USER-----------------------\n",
      "-------------- NEW USER-----------------------\n",
      "user: faf890d407\n",
      "examples: 99\n",
      "examples after removing y with count < 2: 83\n",
      "new column count should be 24 and is 24\n",
      "micro: 0.588235294118\n",
      "macro: 0.244047619048\n",
      "weighted: 0.540616246499\n",
      "-------------- NEW USER-----------------------\n",
      "-------------- NEW USER-----------------------\n",
      "user: d8ed9f59fc\n",
      "examples: 78\n",
      "examples after removing y with count < 2: 63\n",
      "new column count should be 22 and is 22\n",
      "micro: 0.538461538462\n",
      "macro: 0.322751322751\n",
      "weighted: 0.516483516484\n",
      "-------------- NEW USER-----------------------\n",
      "-------------- NEW USER-----------------------\n",
      "-------------- NEW USER-----------------------\n",
      "-------------- NEW USER-----------------------\n",
      "-------------- NEW USER-----------------------\n",
      "-------------- NEW USER-----------------------\n",
      "-------------- NEW USER-----------------------\n",
      "-------------- NEW USER-----------------------\n",
      "-------------- NEW USER-----------------------\n",
      "-------------- NEW USER-----------------------\n",
      "-------------- NEW USER-----------------------\n",
      "-------------- NEW USER-----------------------\n",
      "-------------- NEW USER-----------------------\n",
      "-------------- NEW USER-----------------------\n",
      "-------------- NEW USER-----------------------\n",
      "-------------- NEW USER-----------------------\n",
      "-------------- NEW USER-----------------------\n",
      "-------------- NEW USER-----------------------\n",
      "-------------- NEW USER-----------------------\n",
      "-------------- NEW USER-----------------------\n",
      "-------------- NEW USER-----------------------\n",
      "-------------- NEW USER-----------------------\n",
      "-------------- NEW USER-----------------------\n",
      "-------------- NEW USER-----------------------\n",
      "-------------- NEW USER-----------------------\n",
      "-------------- NEW USER-----------------------\n",
      "-------------- NEW USER-----------------------\n",
      "-------------- NEW USER-----------------------\n",
      "-------------- NEW USER-----------------------\n",
      "-------------- NEW USER-----------------------\n",
      "-------------- NEW USER-----------------------\n",
      "-------------- NEW USER-----------------------\n",
      "-------------- NEW USER-----------------------\n",
      "-------------- NEW USER-----------------------\n",
      "user: 7626d14312\n",
      "examples: 97\n",
      "examples after removing y with count < 2: 81\n",
      "new column count should be 19 and is 19\n",
      "micro: 0.764705882353\n",
      "macro: 0.386904761905\n",
      "weighted: 0.713235294118\n",
      "-------------- NEW USER-----------------------\n",
      "-------------- NEW USER-----------------------\n",
      "-------------- NEW USER-----------------------\n",
      "-------------- NEW USER-----------------------\n",
      "-------------- NEW USER-----------------------\n",
      "-------------- NEW USER-----------------------\n",
      "-------------- NEW USER-----------------------\n",
      "-------------- NEW USER-----------------------\n",
      "-------------- NEW USER-----------------------\n",
      "-------------- NEW USER-----------------------\n",
      "-------------- NEW USER-----------------------\n",
      "-------------- NEW USER-----------------------\n",
      "-------------- NEW USER-----------------------\n",
      "-------------- NEW USER-----------------------\n",
      "-------------- NEW USER-----------------------\n",
      "-------------- NEW USER-----------------------\n",
      "-------------- NEW USER-----------------------\n",
      "-------------- NEW USER-----------------------\n",
      "-------------- NEW USER-----------------------\n",
      "-------------- NEW USER-----------------------\n",
      "-------------- NEW USER-----------------------\n",
      "-------------- NEW USER-----------------------\n",
      "-------------- NEW USER-----------------------\n",
      "-------------- NEW USER-----------------------\n",
      "overall accuracy: 0.689360668162\n"
     ]
    }
   ],
   "source": [
    "label_column = 'drop_off'\n",
    "random_state=42\n",
    "\n",
    "micro = 0.0\n",
    "total = 0\n",
    "# train a separate classifier for each user\n",
    "for user in data['user_id'].unique():\n",
    "    print '-------------- NEW USER-----------------------'\n",
    "    local_data = data.copy()\n",
    "    labels = local_data[label_column].unique()\n",
    "    user_data = local_data[local_data['user_id'] == user]\n",
    "    user_data = user_data.drop('user_id', 1)\n",
    "\n",
    "    if len(user_data) < 50:\n",
    "        continue\n",
    "        \n",
    "    print 'user: ' + user\n",
    "    print 'examples: ' + str(len(user_data))\n",
    "        \n",
    "    for label in labels:\n",
    "        if len(user_data[user_data['drop_off'] == label]) < 2:\n",
    "            user_data = user_data[user_data['drop_off'] != label]\n",
    "    \n",
    "    print 'examples after removing y with count < 2: ' + str(len(user_data))\n",
    "    if len(user_data) == 0:\n",
    "        continue;\n",
    "\n",
    "    user_data = convert_categorical_to_binary(user_data, ['pick_up'])            \n",
    "    labels = user_data[label_column].unique()\n",
    "    y = user_data[label_column]\n",
    "    X = user_data.drop(label_column, 1)\n",
    "        \n",
    "    if (len(X) * 0.20) < len(labels):\n",
    "        continue;\n",
    "    \n",
    "    X_train, X_cross_validation, y_train, y_cross_validation = train_test_split (X, y, test_size=0.2, \n",
    "                                                                                 random_state=random_state, stratify = y)\n",
    "            \n",
    "    random_forest_classifier = RandomForestClassifier(n_estimators=50, random_state=random_state)\n",
    "    random_forest_classifier = random_forest_classifier.fit(X_train, y_train)\n",
    "    random_forest_predictions = random_forest_classifier.predict(X_cross_validation)\n",
    "    \n",
    "    confusion_matrix = metrics.confusion_matrix(y_cross_validation, random_forest_predictions, labels=labels)\n",
    "    #print_confusion_matrix(confusion_matrix, labels)\n",
    "    micro = micro + print_f_scores(y_cross_validation, random_forest_predictions, labels)\n",
    "    total = total + 1\n",
    "    \n",
    "    #if user == '2d1bafe55b':\n",
    "    #    print X_train\n",
    "    #    break\n",
    "        \n",
    "print 'overall accuracy: ' + str(micro/total)"
   ]
  },
  {
   "cell_type": "code",
   "execution_count": null,
   "metadata": {
    "collapsed": true
   },
   "outputs": [],
   "source": []
  }
 ],
 "metadata": {
  "anaconda-cloud": {},
  "kernelspec": {
   "display_name": "Python [default]",
   "language": "python",
   "name": "python2"
  },
  "language_info": {
   "codemirror_mode": {
    "name": "ipython",
    "version": 2
   },
   "file_extension": ".py",
   "mimetype": "text/x-python",
   "name": "python",
   "nbconvert_exporter": "python",
   "pygments_lexer": "ipython2",
   "version": "2.7.12"
  }
 },
 "nbformat": 4,
 "nbformat_minor": 2
}
